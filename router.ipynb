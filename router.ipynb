{
 "cells": [
  {
   "cell_type": "code",
   "execution_count": null,
   "metadata": {},
   "outputs": [],
   "source": [
    "'''\n",
    "Scenario:\n",
    "Imagine you are building an AI-powered workplace assistant that helps employees with different tasks, such as:\n",
    "\n",
    "\n",
    "Answering General Knowledge Questions (Knowledge Agent)\n",
    "Executing Python Code (Code Execution Agent)\n",
    "Extracting Data from Text (Data Extraction Agent)\n",
    "Since employees might ask a variety of questions, your system should intelligently route each request to the appropriate agent using LangGraph.\n",
    "\n",
    "Example Inputs & Expected Agent Routing:\n",
    "User Request\tExpected Agent\n",
    "\"Summarize this document: [text]\"\tSummarization Agent\n",
    "\"Who was the first person to walk on the moon?\"\tKnowledge Agent\n",
    "\"Run this Python code: print(2+2)\"\tCode Execution Agent\n",
    "\"Extract all email addresses from this text: [text]\"\tData Extraction Agent\n",
    "'''"
   ]
  },
  {
   "cell_type": "code",
   "execution_count": null,
   "metadata": {},
   "outputs": [],
   "source": [
    "#here lets create different agent for it\n",
    "from langgraph.graph import StateGraph,START,END\n",
    "from typing_extensions import TypedDict,Literal\n",
    "from langchain_openai import ChatOpenAI\n",
    "from pydantic import BaseModel,Field\n",
    "from langchain_core.messages import SystemMessage,HumanMessage\n",
    "from IPython.display import Image, display\n",
    "\n",
    "\n",
    "llm=ChatOpenAI(model=\"gpt-4o\")\n",
    "\n",
    "class router(BaseModel):\n",
    "      step:Literal[\"general-knowledge\",\"summerizer\",\"extractor\"]=Field(None,description=\"next step in routing\") \n",
    "\n",
    "\n",
    "llm_with_router=llm.with_structured_output(router)\n",
    "\n",
    "\n",
    "\n",
    "class State(TypedDict):\n",
    "      input:str\n",
    "      decision:str\n",
    "      output:str\n",
    "      \n",
    "\n",
    "def llm_call_router(state:State):\n",
    "     response=llm_with_router.invoke(\n",
    "         [\n",
    "             SystemMessage(content=\"route the user request to general-knowledge,summerizer or extractor \")\n",
    "             ,HumanMessage(content=state[\"input\"])\n",
    "         ]\n",
    "         \n",
    "         \n",
    "     )   \n",
    "     return {\"decision\":response.step}\n",
    "    \n",
    "    \n",
    "def route_decision(state:State):\n",
    "    if state[\"decision\"]==\"general-knowledge\":\n",
    "        return \"run_gk\"\n",
    "    \n",
    "    elif state[\"decision\"]==\"summerizer\":\n",
    "        return \"run_summerizer\"\n",
    "    \n",
    "    elif state[\"decision\"]==\"extractor\":\n",
    "        return \"run_extractor\"\n",
    "    \n",
    "    \n",
    "def run_gk(state:State):\n",
    "    result=llm.invoke(state[\"input\"])\n",
    "    return {\"output\":result.content}\n",
    "\n",
    "def run_summarizer(state:State):\n",
    "    result=llm.invoke(state[\"input\"])\n",
    "    return {\"output\":result.content}\n",
    "    \n",
    "\n",
    "def run_extractor(state:State):\n",
    "    result=llm.invoke(state[\"input\"])\n",
    "    return {\"output\":result.content}\n",
    "\n",
    "        "
   ]
  },
  {
   "cell_type": "code",
   "execution_count": null,
   "metadata": {},
   "outputs": [
    {
     "data": {
      "image/png": "[encoded data removed]",
      "text/plain": [
       "<IPython.core.display.Image object>"
      ]
     },
     "metadata": {},
     "output_type": "display_data"
    }
   ],
   "source": [
    "builder=StateGraph(State)\n",
    "builder.add_node(\"run_gk\",run_gk)\n",
    "builder.add_node(\"run_summerizer\",run_summarizer)\n",
    "builder.add_node(\"run_extractor\",run_extractor)\n",
    "builder.add_node(\"llm_call_router\",llm_call_router)\n",
    "\n",
    "builder.add_edge(START,\"llm_call_router\")\n",
    "builder.add_conditional_edges(\"llm_call_router\",route_decision,{\"run_gk\":\"run_gk\",\"run_summerizer\":\"run_summerizer\",\"run_extractor\":\"run_extractor\"})\n",
    "builder.add_edge(\"run_gk\",END)\n",
    "builder.add_edge(\"run_summerizer\",END)\n",
    "builder.add_edge(\"run_extractor\",END)\n",
    "\n",
    "graph=builder.compile()\n",
    "\n",
    "display(Image(graph.get_graph().draw_mermaid_png()))\n",
    "\n",
    "\n",
    "\n",
    "    "
   ]
  },
  {
   "cell_type": "code",
   "execution_count": 19,
   "metadata": {},
   "outputs": [
    {
     "data": {
      "text/plain": [
       "{'input': 'execute the python code  a = \"Hello, World! b = a.split(\",\") print(b)   ',\n",
       " 'decision': 'general-knowledge',\n",
       " 'output': 'It looks like there\\'s a small syntax error in the code you provided. The string assignment is missing a closing quote. Here\\'s the corrected version of the code:\\n\\n```python\\na = \"Hello, World!\"\\nb = a.split(\",\")\\nprint(b)\\n```\\n\\nWhen you execute this code, it will split the string `a` at the comma, resulting in a list of two elements. The output will be:\\n\\n```\\n[\\'Hello\\', \\' World!\\']\\n```'}"
      ]
     },
     "execution_count": 19,
     "metadata": {},
     "output_type": "execute_result"
    }
   ],
   "source": [
    "graph.invoke({\"input\":\"execute the python code  a = \\\"Hello, World! b = a.split(\\\",\\\") print(b)   \"})\n",
    "\n",
    "\n"
   ]
  },
  {
   "cell_type": "code",
   "execution_count": null,
   "metadata": {},
   "outputs": [],
   "source": []
  }
 ],
 "metadata": {
  "kernelspec": {
   "display_name": "routerenv",
   "language": "python",
   "name": "python3"
  },
  "language_info": {
   "codemirror_mode": {
    "name": "ipython",
    "version": 3
   },
   "file_extension": ".py",
   "mimetype": "text/x-python",
   "name": "python",
   "nbconvert_exporter": "python",
   "pygments_lexer": "ipython3",
   "version": "3.12.3"
  }
 },
 "nbformat": 4,
 "nbformat_minor": 2
}
